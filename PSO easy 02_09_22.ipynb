{
 "cells": [
  {
   "cell_type": "code",
   "execution_count": 10,
   "id": "46160e43",
   "metadata": {},
   "outputs": [],
   "source": [
    "import numpy as np\n",
    "import pandas as pd\n",
    "import quantecon as qe"
   ]
  },
  {
   "cell_type": "code",
   "execution_count": 11,
   "id": "2b748117",
   "metadata": {},
   "outputs": [],
   "source": [
    "samples_number = 6\n",
    "uniform_number = 3\n",
    "element = ['Pt', 'Pd', 'Au']\n",
    "gen = 0"
   ]
  },
  {
   "cell_type": "code",
   "execution_count": 17,
   "id": "05947d9d",
   "metadata": {
    "scrolled": true
   },
   "outputs": [],
   "source": [
    "def creating_samples(samples_number, element):\n",
    "    gen=0\n",
    "    uniform_number = len(element)\n",
    "    uniform_samples = (-qe.simplex_grid(len(element), 1)+1)/(len(element)-1)\n",
    "    if samples_number > uniform_number:\n",
    "        random_samples = np.random.rand((samples_number-uniform_number), len(element))\n",
    "        for i in range(samples_number-uniform_number):\n",
    "            random_samples[i] = np.around(random_samples[i]/sum(random_samples[i]), decimals = 3)\n",
    "        sample = np.vstack((uniform_samples, random_samples))\n",
    "    else:\n",
    "        sample = uniform_samples[:samples_number]\n",
    "    samples = []\n",
    "    for i in range(samples_number):\n",
    "        samples.append(list(sample[i]))\n",
    "\n",
    "    generation = []\n",
    "    for i in range (samples_number):\n",
    "            generation.append(gen)\n",
    "\n",
    "    ID = np.arange(1, (samples_number+1))\n",
    "\n",
    "    data = {'Id' : ID, 'Generation': generation, 'Elements': [element], 'Position': samples}\n",
    "    df = pd.DataFrame(data=data, index = np.arange(samples_number))\n",
    "    return df"
   ]
  },
  {
   "cell_type": "code",
   "execution_count": 18,
   "id": "1a377627",
   "metadata": {
    "scrolled": true
   },
   "outputs": [],
   "source": [
    "df = creating_samples(2, element)"
   ]
  },
  {
   "cell_type": "code",
   "execution_count": 19,
   "id": "f1f2576c",
   "metadata": {},
   "outputs": [
    {
     "data": {
      "text/html": [
       "<div>\n",
       "<style scoped>\n",
       "    .dataframe tbody tr th:only-of-type {\n",
       "        vertical-align: middle;\n",
       "    }\n",
       "\n",
       "    .dataframe tbody tr th {\n",
       "        vertical-align: top;\n",
       "    }\n",
       "\n",
       "    .dataframe thead th {\n",
       "        text-align: right;\n",
       "    }\n",
       "</style>\n",
       "<table border=\"1\" class=\"dataframe\">\n",
       "  <thead>\n",
       "    <tr style=\"text-align: right;\">\n",
       "      <th></th>\n",
       "      <th>Id</th>\n",
       "      <th>Generation</th>\n",
       "      <th>Elements</th>\n",
       "      <th>Position</th>\n",
       "    </tr>\n",
       "  </thead>\n",
       "  <tbody>\n",
       "    <tr>\n",
       "      <th>0</th>\n",
       "      <td>1</td>\n",
       "      <td>0</td>\n",
       "      <td>[Pt, Pd, Au]</td>\n",
       "      <td>[0.5, 0.5, 0.0]</td>\n",
       "    </tr>\n",
       "    <tr>\n",
       "      <th>1</th>\n",
       "      <td>2</td>\n",
       "      <td>0</td>\n",
       "      <td>[Pt, Pd, Au]</td>\n",
       "      <td>[0.5, 0.0, 0.5]</td>\n",
       "    </tr>\n",
       "  </tbody>\n",
       "</table>\n",
       "</div>"
      ],
      "text/plain": [
       "   Id  Generation      Elements         Position\n",
       "0   1           0  [Pt, Pd, Au]  [0.5, 0.5, 0.0]\n",
       "1   2           0  [Pt, Pd, Au]  [0.5, 0.0, 0.5]"
      ]
     },
     "execution_count": 19,
     "metadata": {},
     "output_type": "execute_result"
    }
   ],
   "source": [
    "df"
   ]
  },
  {
   "cell_type": "code",
   "execution_count": null,
   "id": "87df910d",
   "metadata": {},
   "outputs": [],
   "source": []
  }
 ],
 "metadata": {
  "kernelspec": {
   "display_name": "Python 3 (ipykernel)",
   "language": "python",
   "name": "python3"
  },
  "language_info": {
   "codemirror_mode": {
    "name": "ipython",
    "version": 3
   },
   "file_extension": ".py",
   "mimetype": "text/x-python",
   "name": "python",
   "nbconvert_exporter": "python",
   "pygments_lexer": "ipython3",
   "version": "3.9.12"
  }
 },
 "nbformat": 4,
 "nbformat_minor": 5
}
